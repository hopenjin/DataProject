{
 "cells": [
  {
   "cell_type": "markdown",
   "metadata": {},
   "source": [
    "# Sentiment Classification of Yelp Reviews"
   ]
  },
  {
   "cell_type": "markdown",
   "metadata": {},
   "source": [
    "Hongpeng Jin &nbsp;&nbsp;&nbsp;&nbsp;&nbsp;&nbsp;&nbsp;&nbsp;&nbsp; \n",
    "469-543-7960 &nbsp;&nbsp;&nbsp;&nbsp;&nbsp;&nbsp;&nbsp;&nbsp;&nbsp; \n",
    "hopenjin@gmail.com &nbsp;&nbsp;&nbsp;&nbsp;&nbsp;&nbsp;&nbsp;&nbsp;&nbsp; \n",
    "linkedin.com/in/hongpeng-jin/"
   ]
  },
  {
   "cell_type": "markdown",
   "metadata": {},
   "source": [
    "Goal: predict the customer sentiment using their review text <br />\n",
    "Data: Yelp Dataset Challenge <br />\n",
    "GitHub: https://github.com/hopenjin/DataProject/blob/master/Hongpeng%20Jin_Project_Sentiment%20Classification%20of%20Yelp%20Reviews.ipynb"
   ]
  },
  {
   "cell_type": "markdown",
   "metadata": {},
   "source": [
    "## 1. First of all, Data processing!!"
   ]
  },
  {
   "cell_type": "markdown",
   "metadata": {},
   "source": [
    "1. see what the data looks like in these datasets\n",
    "2. try to build a dataset that contains the columns we need, including reivews.stars, reivews.text, business.state\n",
    "3. clean the text into bag of words for this project\n",
    "\n",
    "\n",
    "Let the data flow now! ~ ~ ~ "
   ]
  },
  {
   "cell_type": "code",
   "execution_count": 1,
   "metadata": {},
   "outputs": [],
   "source": [
    "import warnings\n",
    "warnings.filterwarnings(\"ignore\")"
   ]
  },
  {
   "cell_type": "code",
   "execution_count": 2,
   "metadata": {},
   "outputs": [
    {
     "data": {
      "text/plain": [
       "{'review_id': 'Q1sbwvVQXV2734tPgoKj4Q',\n",
       " 'user_id': 'hG7b0MtEbXx5QzbzE6C_VA',\n",
       " 'business_id': 'ujmEBvifdJM6h6RLv4wQIg',\n",
       " 'stars': 1.0,\n",
       " 'useful': 6,\n",
       " 'funny': 1,\n",
       " 'cool': 0,\n",
       " 'text': 'Total bill for this horrible service? Over $8Gs. These crooks actually had the nerve to charge us $69 for 3 pills. I checked online the pills can be had for 19 cents EACH! Avoid Hospital ERs at all costs.',\n",
       " 'date': '2013-05-07 04:34:36'}"
      ]
     },
     "execution_count": 2,
     "metadata": {},
     "output_type": "execute_result"
    }
   ],
   "source": [
    "import json\n",
    "\n",
    "review = []\n",
    "for line in open('C:/Users/hopen/Desktop/Data-Analytics/yelp_dataset/review.json','r',encoding=\"utf8\"):\n",
    "    review.append(json.loads(line))\n",
    "\n",
    "review[0]"
   ]
  },
  {
   "cell_type": "code",
   "execution_count": 3,
   "metadata": {},
   "outputs": [
    {
     "data": {
      "text/plain": [
       "{'business_id': '1SWheh84yJXfytovILXOAQ',\n",
       " 'name': 'Arizona Biltmore Golf Club',\n",
       " 'address': '2818 E Camino Acequia Drive',\n",
       " 'city': 'Phoenix',\n",
       " 'state': 'AZ',\n",
       " 'postal_code': '85016',\n",
       " 'latitude': 33.5221425,\n",
       " 'longitude': -112.0184807,\n",
       " 'stars': 3.0,\n",
       " 'review_count': 5,\n",
       " 'is_open': 0,\n",
       " 'attributes': {'GoodForKids': 'False'},\n",
       " 'categories': 'Golf, Active Life',\n",
       " 'hours': None}"
      ]
     },
     "execution_count": 3,
     "metadata": {},
     "output_type": "execute_result"
    }
   ],
   "source": [
    "business = []\n",
    "for line in open('C:/Users/hopen/Desktop/Data-Analytics/yelp_dataset/business.json','r',encoding=\"utf8\"):\n",
    "    business.append(json.loads(line))\n",
    "\n",
    "business[0]"
   ]
  },
  {
   "cell_type": "markdown",
   "metadata": {},
   "source": [
    "Wow! these are the dataset looks like~ Amazing! <br />\n",
    "BTW, It is really fun to see these. How about you? "
   ]
  },
  {
   "cell_type": "code",
   "execution_count": 4,
   "metadata": {},
   "outputs": [],
   "source": [
    "# change json fomart into dataframe fomart\n",
    "import pandas as pd\n",
    "df_review = pd.DataFrame.from_dict(review)\n",
    "df_business = pd.DataFrame.from_dict(business)\n",
    "\n",
    "# combine these two datasets\n",
    "df = pd.merge(df_review[['business_id','stars','text']],df_business[['business_id','state']],on='business_id',how='left')"
   ]
  },
  {
   "cell_type": "code",
   "execution_count": 5,
   "metadata": {},
   "outputs": [
    {
     "data": {
      "text/html": [
       "<div>\n",
       "<style scoped>\n",
       "    .dataframe tbody tr th:only-of-type {\n",
       "        vertical-align: middle;\n",
       "    }\n",
       "\n",
       "    .dataframe tbody tr th {\n",
       "        vertical-align: top;\n",
       "    }\n",
       "\n",
       "    .dataframe thead th {\n",
       "        text-align: right;\n",
       "    }\n",
       "</style>\n",
       "<table border=\"1\" class=\"dataframe\">\n",
       "  <thead>\n",
       "    <tr style=\"text-align: right;\">\n",
       "      <th></th>\n",
       "      <th>business_id</th>\n",
       "      <th>stars</th>\n",
       "      <th>text</th>\n",
       "      <th>state</th>\n",
       "    </tr>\n",
       "  </thead>\n",
       "  <tbody>\n",
       "    <tr>\n",
       "      <th>0</th>\n",
       "      <td>ujmEBvifdJM6h6RLv4wQIg</td>\n",
       "      <td>1.0</td>\n",
       "      <td>Total bill for this horrible service? Over $8G...</td>\n",
       "      <td>NV</td>\n",
       "    </tr>\n",
       "    <tr>\n",
       "      <th>1</th>\n",
       "      <td>NZnhc2sEQy3RmzKTZnqtwQ</td>\n",
       "      <td>5.0</td>\n",
       "      <td>I *adore* Travis at the Hard Rock's new Kelly ...</td>\n",
       "      <td>NV</td>\n",
       "    </tr>\n",
       "    <tr>\n",
       "      <th>2</th>\n",
       "      <td>WTqjgwHlXbSFevF32_DJVw</td>\n",
       "      <td>5.0</td>\n",
       "      <td>I have to say that this office really has it t...</td>\n",
       "      <td>AZ</td>\n",
       "    </tr>\n",
       "    <tr>\n",
       "      <th>3</th>\n",
       "      <td>ikCg8xy5JIg_NGPx-MSIDA</td>\n",
       "      <td>5.0</td>\n",
       "      <td>Went in for a lunch. Steak sandwich was delici...</td>\n",
       "      <td>AB</td>\n",
       "    </tr>\n",
       "    <tr>\n",
       "      <th>4</th>\n",
       "      <td>b1b1eb3uo-w561D0ZfCEiQ</td>\n",
       "      <td>1.0</td>\n",
       "      <td>Today was my second out of three sessions I ha...</td>\n",
       "      <td>AZ</td>\n",
       "    </tr>\n",
       "  </tbody>\n",
       "</table>\n",
       "</div>"
      ],
      "text/plain": [
       "              business_id  stars  \\\n",
       "0  ujmEBvifdJM6h6RLv4wQIg    1.0   \n",
       "1  NZnhc2sEQy3RmzKTZnqtwQ    5.0   \n",
       "2  WTqjgwHlXbSFevF32_DJVw    5.0   \n",
       "3  ikCg8xy5JIg_NGPx-MSIDA    5.0   \n",
       "4  b1b1eb3uo-w561D0ZfCEiQ    1.0   \n",
       "\n",
       "                                                text state  \n",
       "0  Total bill for this horrible service? Over $8G...    NV  \n",
       "1  I *adore* Travis at the Hard Rock's new Kelly ...    NV  \n",
       "2  I have to say that this office really has it t...    AZ  \n",
       "3  Went in for a lunch. Steak sandwich was delici...    AB  \n",
       "4  Today was my second out of three sessions I ha...    AZ  "
      ]
     },
     "execution_count": 5,
     "metadata": {},
     "output_type": "execute_result"
    }
   ],
   "source": [
    "df.head()"
   ]
  },
  {
   "cell_type": "markdown",
   "metadata": {},
   "source": [
    "For here, I only keep Ohio data for further discovering, because the dataset is super large. If your computer ram is only 8Gb RAM or even less, I strongly recommend you do not try this code in you cute video player(Just kidding, hah : )!"
   ]
  },
  {
   "cell_type": "code",
   "execution_count": 6,
   "metadata": {
    "scrolled": true
   },
   "outputs": [],
   "source": [
    "# keep the Ohio data, and delete the data['stars'] == 3.0, which would influence our model accuar\n",
    "df_Ohio = df.loc[df.state == 'OH']\n",
    "df_Ohio = df_Ohio[df_Ohio.stars != 3.0]"
   ]
  },
  {
   "cell_type": "markdown",
   "metadata": {},
   "source": [
    "These texts must be cleaned since we all love things in good trim~ <br />\n",
    "Deleting punctuation, number,stopword, and any weird stuff..."
   ]
  },
  {
   "cell_type": "code",
   "execution_count": 7,
   "metadata": {},
   "outputs": [],
   "source": [
    "import nltk\n",
    "from nltk.corpus import stopwords\n",
    "import re\n",
    "from bs4 import BeautifulSoup\n",
    "\n",
    "REPLACE_BY_SPACE_RE = re.compile('[/(){}\\[\\]\\|@,;]')\n",
    "BAD_SYMBOLS_RE = re.compile('[^0-9a-z #+_]')\n",
    "STOPWORDS = set(stopwords.words('english'))\n",
    "\n",
    "def clean_text(text):\n",
    "    \"\"\"\n",
    "        text: a string\n",
    "        return: modified initial string\n",
    "    \"\"\"\n",
    "    text = BeautifulSoup(text, \"lxml\").text # HTML decoding\n",
    "    text = text.lower() # lowercase text\n",
    "    text = REPLACE_BY_SPACE_RE.sub(' ', text) # replace REPLACE_BY_SPACE_RE symbols by space in text\n",
    "    text = BAD_SYMBOLS_RE.sub('', text) # delete symbols which are in BAD_SYMBOLS_RE from text\n",
    "    text = ' '.join(word for word in text.split() if word not in STOPWORDS) # delete stopwors from text\n",
    "    return text\n",
    "    \n",
    "df_Ohio['text_cleaned'] = df_Ohio['text'].apply(clean_text)\n",
    "df_Ohio = df_Ohio.dropna()"
   ]
  },
  {
   "cell_type": "code",
   "execution_count": 8,
   "metadata": {},
   "outputs": [],
   "source": [
    "# add a new columns for sentiment analysis, we suppose stars_x equal 4 or 5 means good and equal 1 or 2 means bad\n",
    "def setSentiment(stars):\n",
    "    if stars > 3:\n",
    "        return 1\n",
    "    elif stars < 3:\n",
    "        return 0 \n",
    "\n",
    "df_Ohio['sentiment'] = df_Ohio['stars'].apply(setSentiment)"
   ]
  },
  {
   "cell_type": "code",
   "execution_count": 9,
   "metadata": {},
   "outputs": [
    {
     "data": {
      "text/html": [
       "<div>\n",
       "<style scoped>\n",
       "    .dataframe tbody tr th:only-of-type {\n",
       "        vertical-align: middle;\n",
       "    }\n",
       "\n",
       "    .dataframe tbody tr th {\n",
       "        vertical-align: top;\n",
       "    }\n",
       "\n",
       "    .dataframe thead th {\n",
       "        text-align: right;\n",
       "    }\n",
       "</style>\n",
       "<table border=\"1\" class=\"dataframe\">\n",
       "  <thead>\n",
       "    <tr style=\"text-align: right;\">\n",
       "      <th></th>\n",
       "      <th>business_id</th>\n",
       "      <th>stars</th>\n",
       "      <th>text</th>\n",
       "      <th>state</th>\n",
       "      <th>text_cleaned</th>\n",
       "      <th>sentiment</th>\n",
       "    </tr>\n",
       "  </thead>\n",
       "  <tbody>\n",
       "    <tr>\n",
       "      <th>8</th>\n",
       "      <td>b2jN2mm9Wf3RcrZCgfo1cg</td>\n",
       "      <td>2.0</td>\n",
       "      <td>I was really looking forward to visiting after...</td>\n",
       "      <td>OH</td>\n",
       "      <td>really looking forward visiting beers man owar...</td>\n",
       "      <td>0</td>\n",
       "    </tr>\n",
       "    <tr>\n",
       "      <th>16</th>\n",
       "      <td>NyLYY8q1-H3hfsTwuwLPCg</td>\n",
       "      <td>4.0</td>\n",
       "      <td>Great lunch today. Staff was very helpful in a...</td>\n",
       "      <td>OH</td>\n",
       "      <td>great lunch today staff helpful assisting sele...</td>\n",
       "      <td>1</td>\n",
       "    </tr>\n",
       "    <tr>\n",
       "      <th>66</th>\n",
       "      <td>FYkm4c2CujTSPpqSM4TbuQ</td>\n",
       "      <td>5.0</td>\n",
       "      <td>Great tanning salon near me, and clean, equipp...</td>\n",
       "      <td>OH</td>\n",
       "      <td>great tanning salon near clean equipped latest...</td>\n",
       "      <td>1</td>\n",
       "    </tr>\n",
       "    <tr>\n",
       "      <th>69</th>\n",
       "      <td>ZNB91myFoOYgyXoG5LQeGQ</td>\n",
       "      <td>1.0</td>\n",
       "      <td>I took my wife out for a Birthday dinner with ...</td>\n",
       "      <td>OH</td>\n",
       "      <td>took wife birthday dinner daughter 121614 alfo...</td>\n",
       "      <td>0</td>\n",
       "    </tr>\n",
       "    <tr>\n",
       "      <th>71</th>\n",
       "      <td>anzCdD5eIEHwydTpXhLlUA</td>\n",
       "      <td>4.0</td>\n",
       "      <td>Heard about this place and was dying to check ...</td>\n",
       "      <td>OH</td>\n",
       "      <td>heard place dying check putand im glad decent ...</td>\n",
       "      <td>1</td>\n",
       "    </tr>\n",
       "  </tbody>\n",
       "</table>\n",
       "</div>"
      ],
      "text/plain": [
       "               business_id  stars  \\\n",
       "8   b2jN2mm9Wf3RcrZCgfo1cg    2.0   \n",
       "16  NyLYY8q1-H3hfsTwuwLPCg    4.0   \n",
       "66  FYkm4c2CujTSPpqSM4TbuQ    5.0   \n",
       "69  ZNB91myFoOYgyXoG5LQeGQ    1.0   \n",
       "71  anzCdD5eIEHwydTpXhLlUA    4.0   \n",
       "\n",
       "                                                 text state  \\\n",
       "8   I was really looking forward to visiting after...    OH   \n",
       "16  Great lunch today. Staff was very helpful in a...    OH   \n",
       "66  Great tanning salon near me, and clean, equipp...    OH   \n",
       "69  I took my wife out for a Birthday dinner with ...    OH   \n",
       "71  Heard about this place and was dying to check ...    OH   \n",
       "\n",
       "                                         text_cleaned  sentiment  \n",
       "8   really looking forward visiting beers man owar...          0  \n",
       "16  great lunch today staff helpful assisting sele...          1  \n",
       "66  great tanning salon near clean equipped latest...          1  \n",
       "69  took wife birthday dinner daughter 121614 alfo...          0  \n",
       "71  heard place dying check putand im glad decent ...          1  "
      ]
     },
     "execution_count": 9,
     "metadata": {},
     "output_type": "execute_result"
    }
   ],
   "source": [
    "df_Ohio.head()"
   ]
  },
  {
   "cell_type": "code",
   "execution_count": 11,
   "metadata": {},
   "outputs": [
    {
     "data": {
      "text/plain": [
       "<matplotlib.axes._subplots.AxesSubplot at 0x1dd417f9c88>"
      ]
     },
     "execution_count": 11,
     "metadata": {},
     "output_type": "execute_result"
    },
    {
     "data": {
      "image/png": "[encoded data removed]",
      "text/plain": [
       "<Figure size 432x288 with 1 Axes>"
      ]
     },
     "metadata": {
      "needs_background": "light"
     },
     "output_type": "display_data"
    }
   ],
   "source": [
    "df_Ohio.sentiment.value_counts().plot(kind=\"bar\", rot=0)"
   ]
  },
  {
   "cell_type": "markdown",
   "metadata": {},
   "source": [
    "Nice customers, Good business, and not bad distribution."
   ]
  },
  {
   "cell_type": "code",
   "execution_count": 12,
   "metadata": {},
   "outputs": [],
   "source": [
    "df_Ohio.to_csv ('C:/Users/hopen/Desktop/Data-Analytics/Ohio_reviews.csv', index = None, header=True) "
   ]
  },
  {
   "cell_type": "markdown",
   "metadata": {},
   "source": [
    "Now, we get the data that we want!"
   ]
  },
  {
   "cell_type": "code",
   "execution_count": 2,
   "metadata": {},
   "outputs": [
    {
     "data": {
      "text/html": [
       "<div>\n",
       "<style scoped>\n",
       "    .dataframe tbody tr th:only-of-type {\n",
       "        vertical-align: middle;\n",
       "    }\n",
       "\n",
       "    .dataframe tbody tr th {\n",
       "        vertical-align: top;\n",
       "    }\n",
       "\n",
       "    .dataframe thead th {\n",
       "        text-align: right;\n",
       "    }\n",
       "</style>\n",
       "<table border=\"1\" class=\"dataframe\">\n",
       "  <thead>\n",
       "    <tr style=\"text-align: right;\">\n",
       "      <th></th>\n",
       "      <th>business_id</th>\n",
       "      <th>stars</th>\n",
       "      <th>text</th>\n",
       "      <th>state</th>\n",
       "      <th>text_cleaned</th>\n",
       "      <th>sentiment</th>\n",
       "    </tr>\n",
       "  </thead>\n",
       "  <tbody>\n",
       "    <tr>\n",
       "      <th>0</th>\n",
       "      <td>b2jN2mm9Wf3RcrZCgfo1cg</td>\n",
       "      <td>2.0</td>\n",
       "      <td>I was really looking forward to visiting after...</td>\n",
       "      <td>OH</td>\n",
       "      <td>really looking forward visiting beers man owar...</td>\n",
       "      <td>0</td>\n",
       "    </tr>\n",
       "    <tr>\n",
       "      <th>1</th>\n",
       "      <td>NyLYY8q1-H3hfsTwuwLPCg</td>\n",
       "      <td>4.0</td>\n",
       "      <td>Great lunch today. Staff was very helpful in a...</td>\n",
       "      <td>OH</td>\n",
       "      <td>great lunch today staff helpful assisting sele...</td>\n",
       "      <td>1</td>\n",
       "    </tr>\n",
       "    <tr>\n",
       "      <th>2</th>\n",
       "      <td>FYkm4c2CujTSPpqSM4TbuQ</td>\n",
       "      <td>5.0</td>\n",
       "      <td>Great tanning salon near me, and clean, equipp...</td>\n",
       "      <td>OH</td>\n",
       "      <td>great tanning salon near clean equipped latest...</td>\n",
       "      <td>1</td>\n",
       "    </tr>\n",
       "    <tr>\n",
       "      <th>3</th>\n",
       "      <td>ZNB91myFoOYgyXoG5LQeGQ</td>\n",
       "      <td>1.0</td>\n",
       "      <td>I took my wife out for a Birthday dinner with ...</td>\n",
       "      <td>OH</td>\n",
       "      <td>took wife birthday dinner daughter 121614 alfo...</td>\n",
       "      <td>0</td>\n",
       "    </tr>\n",
       "    <tr>\n",
       "      <th>4</th>\n",
       "      <td>anzCdD5eIEHwydTpXhLlUA</td>\n",
       "      <td>4.0</td>\n",
       "      <td>Heard about this place and was dying to check ...</td>\n",
       "      <td>OH</td>\n",
       "      <td>heard place dying check putand im glad decent ...</td>\n",
       "      <td>1</td>\n",
       "    </tr>\n",
       "  </tbody>\n",
       "</table>\n",
       "</div>"
      ],
      "text/plain": [
       "              business_id  stars  \\\n",
       "0  b2jN2mm9Wf3RcrZCgfo1cg    2.0   \n",
       "1  NyLYY8q1-H3hfsTwuwLPCg    4.0   \n",
       "2  FYkm4c2CujTSPpqSM4TbuQ    5.0   \n",
       "3  ZNB91myFoOYgyXoG5LQeGQ    1.0   \n",
       "4  anzCdD5eIEHwydTpXhLlUA    4.0   \n",
       "\n",
       "                                                text state  \\\n",
       "0  I was really looking forward to visiting after...    OH   \n",
       "1  Great lunch today. Staff was very helpful in a...    OH   \n",
       "2  Great tanning salon near me, and clean, equipp...    OH   \n",
       "3  I took my wife out for a Birthday dinner with ...    OH   \n",
       "4  Heard about this place and was dying to check ...    OH   \n",
       "\n",
       "                                        text_cleaned  sentiment  \n",
       "0  really looking forward visiting beers man owar...          0  \n",
       "1  great lunch today staff helpful assisting sele...          1  \n",
       "2  great tanning salon near clean equipped latest...          1  \n",
       "3  took wife birthday dinner daughter 121614 alfo...          0  \n",
       "4  heard place dying check putand im glad decent ...          1  "
      ]
     },
     "execution_count": 2,
     "metadata": {},
     "output_type": "execute_result"
    }
   ],
   "source": [
    "import pandas as pd\n",
    "\n",
    "data=pd.read_csv('C:/Users/hopen/Desktop/Data-Analytics/Ohio_reviews.csv')\n",
    "data.head()"
   ]
  },
  {
   "cell_type": "markdown",
   "metadata": {},
   "source": [
    "## 2. Text Analytics "
   ]
  },
  {
   "cell_type": "code",
   "execution_count": 4,
   "metadata": {},
   "outputs": [],
   "source": [
    "x_data = data['text_cleaned']\n",
    "y_data = data['sentiment']\n",
    "#Separate into train and test data set\n",
    "from sklearn.model_selection import train_test_split\n",
    "x_train, x_test, y_train, y_test=train_test_split(x_data,y_data,test_size=0.3,random_state=0)"
   ]
  },
  {
   "cell_type": "code",
   "execution_count": 5,
   "metadata": {},
   "outputs": [],
   "source": [
    "from sklearn.feature_extraction.text import CountVectorizer, TfidfVectorizer\n",
    "import nltk\n",
    "\n",
    "vectorizers = [\n",
    "    {'label': 'Bag of Words',   \n",
    "     'vectorizer': CountVectorizer(analyzer=\"word\", tokenizer=nltk.word_tokenize,\n",
    "                                   preprocessor=None, stop_words='english', max_features=3000) ,},\n",
    "    {'label': 'TF-IDF',         \n",
    "     'vectorizer': TfidfVectorizer(min_df=2, tokenizer=nltk.word_tokenize,\n",
    "                                  preprocessor=None, stop_words='english'),},    \n",
    "]\n",
    "\n",
    "from sklearn.linear_model import LogisticRegression\n",
    "from sklearn.naive_bayes import MultinomialNB\n",
    "from sklearn.ensemble import RandomForestClassifier\n",
    "from sklearn.ensemble import GradientBoostingClassifier\n",
    "\n",
    "models = [\n",
    "           {'label': 'Logistic Regression',      'model': LogisticRegression(n_jobs=1, C=1e5),},\n",
    "           {'label': 'Naive Bayes Classifier ',  'model': MultinomialNB(),},\n",
    "           {'label': 'Random Forest',            'model': RandomForestClassifier(),},    \n",
    "           {'label': 'Gradient Boosting',        'model': GradientBoostingClassifier(),},\n",
    "]"
   ]
  },
  {
   "cell_type": "markdown",
   "metadata": {},
   "source": [
    "It looks a lot of code here. I could encapsulate them to a good-looking format. However, we could see how the data transfers in these code. In other words, I thought it is more readable, so I keep all here."
   ]
  },
  {
   "cell_type": "markdown",
   "metadata": {},
   "source": [
    "BTW, at the beginning, I looped models first and then looped the vectorizers, which means I need to vectorize the train data and test data 3 times than now, what a fool I was!!"
   ]
  },
  {
   "cell_type": "code",
   "execution_count": 6,
   "metadata": {
    "scrolled": false
   },
   "outputs": [
    {
     "name": "stdout",
     "output_type": "stream",
     "text": [
      "------------ BAG OF WORDS ------------\n",
      "---- Logistic Regression \n",
      "Test accuracy is 0.9419247528463665\n",
      "Confusion matrix:\n",
      "[[19937  2999]\n",
      " [ 1959 60477]]\n",
      "Normalized Confusion matrix:\n",
      "[[0.86924486 0.13075514]\n",
      " [0.03137613 0.96862387]]\n",
      "---- Naive Bayes Classifier  \n",
      "Test accuracy is 0.8988192850114791\n",
      "Confusion matrix:\n",
      "[[18834  4102]\n",
      " [ 4536 57900]]\n",
      "Normalized Confusion matrix:\n",
      "[[0.82115452 0.17884548]\n",
      " [0.07265039 0.92734961]]\n",
      "---- Random Forest \n",
      "Test accuracy is 0.8996743663027691\n",
      "Confusion matrix:\n",
      "[[18271  4665]\n",
      " [ 3900 58536]]\n",
      "Normalized Confusion matrix:\n",
      "[[0.79660795 0.20339205]\n",
      " [0.06246396 0.93753604]]\n",
      "---- Gradient Boosting \n",
      "Test accuracy is 0.8758140842430774\n",
      "Confusion matrix:\n",
      "[[13532  9404]\n",
      " [ 1198 61238]]\n",
      "Normalized Confusion matrix:\n",
      "[[0.58998954 0.41001046]\n",
      " [0.01918765 0.98081235]]\n",
      "------------ TF-IDF ------------\n",
      "---- Logistic Regression \n",
      "Test accuracy is 0.9155929344515766\n",
      "Confusion matrix:\n",
      "[[19433  3503]\n",
      " [ 3703 58733]]\n",
      "Normalized Confusion matrix:\n",
      "[[0.84727067 0.15272933]\n",
      " [0.05930873 0.94069127]]\n",
      "---- Naive Bayes Classifier  \n",
      "Test accuracy is 0.8955746614815162\n",
      "Confusion matrix:\n",
      "[[15404  7532]\n",
      " [ 1383 61053]]\n",
      "Normalized Confusion matrix:\n",
      "[[0.67160795 0.32839205]\n",
      " [0.02215068 0.97784932]]\n",
      "---- Random Forest \n",
      "Test accuracy is 0.8960431991753737\n",
      "Confusion matrix:\n",
      "[[17099  5837]\n",
      " [ 3038 59398]]\n",
      "Normalized Confusion matrix:\n",
      "[[0.74550924 0.25449076]\n",
      " [0.04865783 0.95134217]]\n",
      "---- Gradient Boosting \n",
      "Test accuracy is 0.8766574520920208\n",
      "Confusion matrix:\n",
      "[[13650  9286]\n",
      " [ 1244 61192]]\n",
      "Normalized Confusion matrix:\n",
      "[[0.59513429 0.40486571]\n",
      " [0.0199244  0.9800756 ]]\n"
     ]
    },
    {
     "data": {
      "image/png": "[encoded data removed]",
      "text/plain": [
       "<Figure size 864x576 with 1 Axes>"
      ]
     },
     "metadata": {
      "needs_background": "light"
     },
     "output_type": "display_data"
    }
   ],
   "source": [
    "import numpy as np\n",
    "from sklearn.metrics import accuracy_score\n",
    "from sklearn.metrics import confusion_matrix\n",
    "from sklearn import metrics\n",
    "import matplotlib.pyplot as plt\n",
    "%matplotlib inline\n",
    "\n",
    "plt.figure(figsize=(12, 8))\n",
    "\n",
    "# Below for loop iterates through your models list\n",
    "for v in vectorizers:\n",
    "    # train the vectorizer\n",
    "    print('------------ %s ------------' % v['label'].upper())\n",
    "    vectorizer = v['vectorizer']\n",
    "    train_data_features = vectorizer.fit_transform(x_train)    \n",
    "    # use the vectorizer to transfor x_test into vecotr\n",
    "    test_data_features = vectorizer.transform(x_test)    \n",
    "    for m in models:\n",
    "        # train the model and predict y_pred\n",
    "        print('---- %s ' % m['label'])\n",
    "        model = m['model'] \n",
    "        model = model.fit(train_data_features, y_train)\n",
    "        y_pred = model.predict(test_data_features)\n",
    "        \n",
    "        #  print out model evaluation\n",
    "        print('Test accuracy is {}'.format(accuracy_score(y_test,y_pred)))\n",
    "        conf_mat =confusion_matrix(y_test,y_pred)\n",
    "        print(\"Confusion matrix:\\n%s\" % conf_mat)\n",
    "        conf_mat_norm = conf_mat.astype('float') / conf_mat.sum(axis=1)[:, np.newaxis]\n",
    "        print(\"Normalized Confusion matrix:\\n%s\" % conf_mat_norm)\n",
    "\n",
    "        # Compute False postive rate, and True positive rate\n",
    "        fpr, tpr, thresholds = metrics.roc_curve(y_test, model.predict_proba(test_data_features)[:,1])\n",
    "        # Calculate Area under the curve to display on the plot\n",
    "        auc = metrics.roc_auc_score(y_test,model.predict(test_data_features))\n",
    "        # Now, plot the computed values\n",
    "        plt.plot(fpr, tpr, label='%s + %s ROC (area = %0.2f)' % (v['label'], m['label'], auc))\n",
    "    \n",
    "# Custom settings for the plot \n",
    "\n",
    "plt.plot([0, 1], [0, 1],'r--')\n",
    "plt.xlim([0.0, 1.0])\n",
    "plt.ylim([0.0, 1.05])\n",
    "plt.xlabel('1-Specificity(False Positive Rate)')\n",
    "plt.ylabel('Sensitivity(True Positive Rate)')\n",
    "plt.title('ROC curve')\n",
    "plt.legend(loc=\"lower right\")\n",
    "plt.show()   # Display"
   ]
  },
  {
   "cell_type": "markdown",
   "metadata": {},
   "source": [
    "Until now, our project is done. We use BOW and TF-IDF to change the text into vector, so in this way the model could be trained, and finally we got good predictions."
   ]
  },
  {
   "cell_type": "markdown",
   "metadata": {},
   "source": [
    "# Bonus!  "
   ]
  },
  {
   "cell_type": "markdown",
   "metadata": {},
   "source": [
    "## Word2Vec + Keras/Xgboost "
   ]
  },
  {
   "cell_type": "markdown",
   "metadata": {},
   "source": [
    "Fancy Word2Vec, Fabulous Keras, and Fantastic Xgboost!"
   ]
  },
  {
   "cell_type": "markdown",
   "metadata": {},
   "source": [
    "First, use Word2Vec to vectorize the text, but before that we need change the text in to word tokens first. "
   ]
  },
  {
   "cell_type": "code",
   "execution_count": 7,
   "metadata": {},
   "outputs": [
    {
     "data": {
      "text/html": [
       "<div>\n",
       "<style scoped>\n",
       "    .dataframe tbody tr th:only-of-type {\n",
       "        vertical-align: middle;\n",
       "    }\n",
       "\n",
       "    .dataframe tbody tr th {\n",
       "        vertical-align: top;\n",
       "    }\n",
       "\n",
       "    .dataframe thead th {\n",
       "        text-align: right;\n",
       "    }\n",
       "</style>\n",
       "<table border=\"1\" class=\"dataframe\">\n",
       "  <thead>\n",
       "    <tr style=\"text-align: right;\">\n",
       "      <th></th>\n",
       "      <th>business_id</th>\n",
       "      <th>stars</th>\n",
       "      <th>text</th>\n",
       "      <th>state</th>\n",
       "      <th>text_cleaned</th>\n",
       "      <th>sentiment</th>\n",
       "      <th>text_cleaned_token</th>\n",
       "    </tr>\n",
       "  </thead>\n",
       "  <tbody>\n",
       "    <tr>\n",
       "      <th>0</th>\n",
       "      <td>b2jN2mm9Wf3RcrZCgfo1cg</td>\n",
       "      <td>2.0</td>\n",
       "      <td>I was really looking forward to visiting after...</td>\n",
       "      <td>OH</td>\n",
       "      <td>really looking forward visiting beers man owar...</td>\n",
       "      <td>0</td>\n",
       "      <td>[really, looking, forward, visiting, beers, ma...</td>\n",
       "    </tr>\n",
       "    <tr>\n",
       "      <th>1</th>\n",
       "      <td>NyLYY8q1-H3hfsTwuwLPCg</td>\n",
       "      <td>4.0</td>\n",
       "      <td>Great lunch today. Staff was very helpful in a...</td>\n",
       "      <td>OH</td>\n",
       "      <td>great lunch today staff helpful assisting sele...</td>\n",
       "      <td>1</td>\n",
       "      <td>[great, lunch, today, staff, helpful, assistin...</td>\n",
       "    </tr>\n",
       "    <tr>\n",
       "      <th>2</th>\n",
       "      <td>FYkm4c2CujTSPpqSM4TbuQ</td>\n",
       "      <td>5.0</td>\n",
       "      <td>Great tanning salon near me, and clean, equipp...</td>\n",
       "      <td>OH</td>\n",
       "      <td>great tanning salon near clean equipped latest...</td>\n",
       "      <td>1</td>\n",
       "      <td>[great, tanning, salon, near, clean, equipped,...</td>\n",
       "    </tr>\n",
       "    <tr>\n",
       "      <th>3</th>\n",
       "      <td>ZNB91myFoOYgyXoG5LQeGQ</td>\n",
       "      <td>1.0</td>\n",
       "      <td>I took my wife out for a Birthday dinner with ...</td>\n",
       "      <td>OH</td>\n",
       "      <td>took wife birthday dinner daughter 121614 alfo...</td>\n",
       "      <td>0</td>\n",
       "      <td>[took, wife, birthday, dinner, daughter, 12161...</td>\n",
       "    </tr>\n",
       "    <tr>\n",
       "      <th>4</th>\n",
       "      <td>anzCdD5eIEHwydTpXhLlUA</td>\n",
       "      <td>4.0</td>\n",
       "      <td>Heard about this place and was dying to check ...</td>\n",
       "      <td>OH</td>\n",
       "      <td>heard place dying check putand im glad decent ...</td>\n",
       "      <td>1</td>\n",
       "      <td>[heard, place, dying, check, putand, im, glad,...</td>\n",
       "    </tr>\n",
       "  </tbody>\n",
       "</table>\n",
       "</div>"
      ],
      "text/plain": [
       "              business_id  stars  \\\n",
       "0  b2jN2mm9Wf3RcrZCgfo1cg    2.0   \n",
       "1  NyLYY8q1-H3hfsTwuwLPCg    4.0   \n",
       "2  FYkm4c2CujTSPpqSM4TbuQ    5.0   \n",
       "3  ZNB91myFoOYgyXoG5LQeGQ    1.0   \n",
       "4  anzCdD5eIEHwydTpXhLlUA    4.0   \n",
       "\n",
       "                                                text state  \\\n",
       "0  I was really looking forward to visiting after...    OH   \n",
       "1  Great lunch today. Staff was very helpful in a...    OH   \n",
       "2  Great tanning salon near me, and clean, equipp...    OH   \n",
       "3  I took my wife out for a Birthday dinner with ...    OH   \n",
       "4  Heard about this place and was dying to check ...    OH   \n",
       "\n",
       "                                        text_cleaned  sentiment  \\\n",
       "0  really looking forward visiting beers man owar...          0   \n",
       "1  great lunch today staff helpful assisting sele...          1   \n",
       "2  great tanning salon near clean equipped latest...          1   \n",
       "3  took wife birthday dinner daughter 121614 alfo...          0   \n",
       "4  heard place dying check putand im glad decent ...          1   \n",
       "\n",
       "                                  text_cleaned_token  \n",
       "0  [really, looking, forward, visiting, beers, ma...  \n",
       "1  [great, lunch, today, staff, helpful, assistin...  \n",
       "2  [great, tanning, salon, near, clean, equipped,...  \n",
       "3  [took, wife, birthday, dinner, daughter, 12161...  \n",
       "4  [heard, place, dying, check, putand, im, glad,...  "
      ]
     },
     "execution_count": 7,
     "metadata": {},
     "output_type": "execute_result"
    }
   ],
   "source": [
    "# change the text string into text token list\n",
    "def tokenize_text(text):\n",
    "    tokens = []\n",
    "    for sent in nltk.sent_tokenize(text):\n",
    "        for word in nltk.word_tokenize(sent):\n",
    "            if len(word) < 2:\n",
    "                continue\n",
    "            tokens.append(word.lower())\n",
    "    return tokens\n",
    "\n",
    "data['text_cleaned_token'] = data['text_cleaned'].apply(tokenize_text)\n",
    "\n",
    "data.to_csv ('C:/Users/hopen/Desktop/Data-Analytics/Ohio_reviews.csv', index = None, header=True) \n",
    "data.head()"
   ]
  },
  {
   "cell_type": "code",
   "execution_count": 14,
   "metadata": {},
   "outputs": [],
   "source": [
    "from ast import literal_eval\n",
    "data = pd.read_csv('C:/Users/hopen/Desktop/Data-Analytics/Ohio_reviews.csv')\n",
    "data['text_cleaned_token'] = data['text_cleaned_token'].apply(literal_eval)"
   ]
  },
  {
   "cell_type": "code",
   "execution_count": 18,
   "metadata": {},
   "outputs": [],
   "source": [
    "from collections import namedtuple\n",
    "SentimentDocument = namedtuple('SentimentDocument', 'words tags sentiment')\n",
    "alldocs=[]\n",
    "\n",
    "for i in range(len(data)):             \n",
    "    words = data['text_cleaned_token'][i]\n",
    "#     words = data['text_cleaned']\n",
    "    tags = [i]\n",
    "    sentiment = data['sentiment'][i] \n",
    "    alldocs.append(SentimentDocument(words,tags,sentiment))\n",
    "    \n",
    "from random import shuffle\n",
    "doc_list = alldocs[:]  \n",
    "shuffle(doc_list)"
   ]
  },
  {
   "cell_type": "code",
   "execution_count": 21,
   "metadata": {
    "scrolled": true
   },
   "outputs": [],
   "source": [
    "import gensim\n",
    "import gensim.models.doc2vec\n",
    "from gensim.models.doc2vec import TaggedDocument\n",
    "from gensim.models import Doc2Vec\n",
    "import multiprocessing\n",
    "\n",
    "vec_model_1 = Doc2Vec(dm=1,dm_concat=1,vector_size=80, window=6, min_count=3, negtive = 5, \n",
    "                      hs=0, sample=0, epochs=50, workers=(multiprocessing.cpu_count()-1))\n",
    "vec_model_1.build_vocab(doc_list)\n",
    "vec_model_1.train(doc_list, total_examples=len(doc_list), epochs=vec_model_1.epochs)\n",
    "vec_model_1.save('model_store_1.model')\n",
    "\n",
    "vec_model_0 = Doc2Vec(dm=0,vector_size=80, window=6, min_count=3, negtive = 5, \n",
    "                      hs=0, sample=0, epochs=50, workers=(multiprocessing.cpu_count()-1))\n",
    "vec_model_0.build_vocab(doc_list)\n",
    "vec_model_0.train(doc_list, total_examples=len(doc_list), epochs=vec_model_0.epochs)\n",
    "vec_model_0.save('model_store_0.model')"
   ]
  },
  {
   "cell_type": "code",
   "execution_count": null,
   "metadata": {},
   "outputs": [],
   "source": [
    "vec_model_1 = Word2Vec.load(\"model_store_1.model\")\n",
    "vec_model_0 = Word2Vec.load(\"model_store_0.model\")"
   ]
  },
  {
   "cell_type": "code",
   "execution_count": 40,
   "metadata": {},
   "outputs": [],
   "source": [
    "from gensim.test.test_doc2vec import ConcatenatedDoc2Vec\n",
    "vec_model = ConcatenatedDoc2Vec([vec_model_0,vec_model_1])\n",
    "\n",
    "from sklearn.model_selection import train_test_split\n",
    "train_set, test_set = train_test_split (doc_list,random_state =100, test_size =0.2, shuffle =True)\n",
    "\n",
    "X_train_vec= [vec_model.docvecs[doc.tags[0]] for doc in train_set]\n",
    "X_test_vec = [vec_model.docvecs[doc.tags[0]] for doc in test_set]\n",
    "y_train = [doc.sentiment for doc in train_set]\n",
    "y_test = [doc.sentiment for doc in test_set]\n",
    "\n",
    "X_train_vec = np.array(X_train_vec)\n",
    "X_test_vec = np.array(X_test_vec)\n",
    "y_train = np.array(y_train)\n",
    "y_test = np.array(y_test)"
   ]
  },
  {
   "cell_type": "markdown",
   "metadata": {},
   "source": [
    "Now, we completed the word vectorization using Word2Vec.<br />\n",
    "Next, start try our deep learning model and boosting model. "
   ]
  },
  {
   "cell_type": "code",
   "execution_count": 62,
   "metadata": {},
   "outputs": [
    {
     "name": "stdout",
     "output_type": "stream",
     "text": [
      "Test accuracy is 0.9375065884254542\n",
      "Confusion matrix:\n",
      "[[13396  2063]\n",
      " [ 1494 39965]]\n",
      "Normalized Confusion matrix:\n",
      "[[0.86655023 0.13344977]\n",
      " [0.0360356  0.9639644 ]]\n"
     ]
    },
    {
     "data": {
      "image/png": "[encoded data removed]",
      "text/plain": [
       "<Figure size 432x288 with 1 Axes>"
      ]
     },
     "metadata": {
      "needs_background": "light"
     },
     "output_type": "display_data"
    }
   ],
   "source": [
    "from xgboost import XGBClassifier\n",
    "\n",
    "model = XGBClassifier(learning_rate =0.1, n_estimators=1000, max_depth=5, min_child_weight=1, \n",
    "                      gamma=0, subsample=0.8, colsample_bytree=0.8, objective= 'binary:logistic', \n",
    "                      nthread=4, scale_pos_weight=1)\n",
    "model.fit(X_train_vec, y_train)\n",
    "y_pred=model.predict(X_test_vec)\n",
    "\n",
    "\n",
    "print('Test accuracy is {}'.format(accuracy_score(y_test,y_pred)))\n",
    "conf_mat =confusion_matrix(y_test,y_pred)\n",
    "print(\"Confusion matrix:\\n%s\" % conf_mat)\n",
    "conf_mat_norm = conf_mat.astype('float') / conf_mat.sum(axis=1)[:, np.newaxis]\n",
    "print(\"Normalized Confusion matrix:\\n%s\" % conf_mat_norm)\n",
    "\n",
    "\n",
    "plt.figure()\n",
    "\n",
    "# Compute False postive rate, and True positive rate\n",
    "fpr, tpr, thresholds = metrics.roc_curve(y_test, model.predict_proba(X_test_vec)[:,1])\n",
    "# Calculate Area under the curve to display on the plot\n",
    "auc = metrics.roc_auc_score(y_test,model.predict(X_test_vec))\n",
    "# Now, plot the computed values\n",
    "plt.plot(fpr, tpr, label='%s + %s ROC (area = %0.2f)' % ('Word2Vec', 'Xgboost', auc))\n",
    "        \n",
    "# Custom settings for the plot \n",
    "plt.plot([0, 1], [0, 1],'r--')\n",
    "plt.xlim([0.0, 1.0])\n",
    "plt.ylim([0.0, 1.05])\n",
    "plt.xlabel('1-Specificity(False Positive Rate)')\n",
    "plt.ylabel('Sensitivity(True Positive Rate)')\n",
    "plt.title('ROC curve')\n",
    "plt.legend(loc=\"lower right\")\n",
    "plt.show()   # Display"
   ]
  },
  {
   "cell_type": "code",
   "execution_count": 63,
   "metadata": {},
   "outputs": [
    {
     "name": "stdout",
     "output_type": "stream",
     "text": [
      "Train on 204904 samples, validate on 22768 samples\n",
      "Epoch 1/10\n",
      " - 20s - loss: 0.1608 - acc: 0.9374 - val_loss: 0.1469 - val_acc: 0.9433\n",
      "Epoch 2/10\n",
      " - 18s - loss: 0.1425 - acc: 0.9463 - val_loss: 0.1471 - val_acc: 0.9442\n",
      "Epoch 3/10\n",
      " - 23s - loss: 0.1346 - acc: 0.9499 - val_loss: 0.1499 - val_acc: 0.9452\n",
      "Epoch 4/10\n",
      " - 25s - loss: 0.1273 - acc: 0.9533 - val_loss: 0.1538 - val_acc: 0.9458\n",
      "Epoch 5/10\n",
      " - 17s - loss: 0.1203 - acc: 0.9560 - val_loss: 0.1522 - val_acc: 0.9455\n",
      "Epoch 6/10\n",
      " - 26s - loss: 0.1134 - acc: 0.9598 - val_loss: 0.1528 - val_acc: 0.9459\n",
      "Epoch 7/10\n",
      " - 23s - loss: 0.1072 - acc: 0.9626 - val_loss: 0.1478 - val_acc: 0.9437\n",
      "Epoch 8/10\n",
      " - 22s - loss: 0.1010 - acc: 0.9653 - val_loss: 0.2034 - val_acc: 0.9375\n",
      "Epoch 9/10\n",
      " - 22s - loss: 0.0963 - acc: 0.9678 - val_loss: 0.1871 - val_acc: 0.9416\n",
      "Epoch 10/10\n",
      " - 25s - loss: 0.0907 - acc: 0.9703 - val_loss: 0.2192 - val_acc: 0.9400\n",
      "Test score: 0.23793342152560745\n",
      "Test accuracy: 0.936259179839289\n"
     ]
    }
   ],
   "source": [
    "# import keras\n",
    "from keras.models import Sequential\n",
    "from keras.layers import Dense, Activation\n",
    "\n",
    "model = Sequential()\n",
    "model.add(Dense(512, activation='relu', input_dim=160))\n",
    "model.add(Dense(128, activation='relu'))\n",
    "model.add(Dense(32, activation='relu'))\n",
    "model.add(Dense(1, activation='sigmoid'))\n",
    "model.compile(optimizer='rmsprop',\n",
    "              loss='binary_crossentropy',\n",
    "              metrics=['accuracy']\n",
    ")\n",
    "\n",
    "model.fit(X_train_vec, y_train, epochs=10, batch_size=32, verbose=2, validation_split=0.1)\n",
    "\n",
    "score = model.evaluate(X_test_vec, y_test, batch_size=128, verbose=2)\n",
    "print('Test score:', score[0])\n",
    "print('Test accuracy:', score[1])"
   ]
  },
  {
   "cell_type": "markdown",
   "metadata": {},
   "source": [
    "Look! Word2Vec + Keras/Xgboost are much better than previous combinations. Until now, I have used most popular Vectorization methods nad models including Logistic Regression, Random Forest, boosting tree, deep neural network and Xgboost. I learned way more than I thought before, and I believe this is a good start! In the future, I would learn more about these models and force more on Model tuning parameter and the design of layer in deep learning. "
   ]
  },
  {
   "cell_type": "markdown",
   "metadata": {},
   "source": [
    "Thank you for time to read my project."
   ]
  },
  {
   "cell_type": "markdown",
   "metadata": {},
   "source": [
    "## Reference"
   ]
  },
  {
   "cell_type": "markdown",
   "metadata": {},
   "source": [
    "Finally, Thanks these blogs or codes, they help me really a lot. I am really appreciate that these authors show their thoughts all the time, which also should be learned. I listed them here, and hope they would be helpful for you, too. <br />\n",
    "\n",
    "https://towardsdatascience.com/multi-class-text-classification-model-comparison-and-selection-5eb066197568  <br />\n",
    "https://towardsdatascience.com/multi-class-text-classification-with-doc2vec-logistic-regression-9da9947b43f4 <br />\n",
    "https://medium.com/district-data-labs/modern-methods-for-sentiment-analysis-694eaf725244 <br />\n",
    "https://github.com/tensorflow/workshops/blob/master/extras/keras-bag-of-words/keras-bow-model.ipynb <br />\n",
    "https://github.com/RaRe-Technologies/movie-plots-by-genre/blob/master/ipynb_with_output/Document%20classification%20with%20word%20embeddings%20tutorial%20-%20with%20output.ipynb <"
   ]
  }
 ],
 "metadata": {
  "kernelspec": {
   "display_name": "Python 3",
   "language": "python",
   "name": "python3"
  },
  "language_info": {
   "codemirror_mode": {
    "name": "ipython",
    "version": 3
   },
   "file_extension": ".py",
   "mimetype": "text/x-python",
   "name": "python",
   "nbconvert_exporter": "python",
   "pygments_lexer": "ipython3",
   "version": "3.6.8"
  }
 },
 "nbformat": 4,
 "nbformat_minor": 2
}
